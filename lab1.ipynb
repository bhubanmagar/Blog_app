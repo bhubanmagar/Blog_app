{
  "nbformat": 4,
  "nbformat_minor": 0,
  "metadata": {
    "colab": {
      "provenance": [],
      "authorship_tag": "ABX9TyMrfxi3WO0e7Xkssxq86WU3",
      "include_colab_link": true
    },
    "kernelspec": {
      "name": "python3",
      "display_name": "Python 3"
    },
    "language_info": {
      "name": "python"
    }
  },
  "cells": [
    {
      "cell_type": "markdown",
      "metadata": {
        "id": "view-in-github",
        "colab_type": "text"
      },
      "source": [
        "<a href=\"https://colab.research.google.com/github/bhubanmagar/Blog_app/blob/main/lab1.ipynb\" target=\"_parent\"><img src=\"https://colab.research.google.com/assets/colab-badge.svg\" alt=\"Open In Colab\"/></a>"
      ]
    },
    {
      "cell_type": "code",
      "execution_count": null,
      "metadata": {
        "id": "s_benXhb6xYF"
      },
      "outputs": [],
      "source": [
        "#sample data : Employeedata.csv\n",
        "ID     Name   Age       Department   Salary\n",
        "1   Bhuban  28.0               HR  50000.0\n",
        "2      ram  35.0          Finance  60000.0\n",
        "3    shyam   NaN               HR  55000.0\n",
        "4   Michael  40.0  Human Resources      NaN\n",
        "5     rajan  29.0               IT  52000.0\n",
        "\n",
        "\n"
      ]
    },
    {
      "cell_type": "code",
      "source": [
        "import pandas as pd\n",
        "# Step 1: Loading  the dataset\n",
        "df = pd.read_csv(\"/content/sample_data/lab1-datasets/employee_data.csv\")\n",
        "print(\"Initial Given Data:\\n\", df.head())\n",
        "# Step 2:: Handle missing values --Fill missing 'Age' with the mean age and 'Salary' with the mean salary\n",
        "df['Age'].fillna(df['Age'].mean(), inplace=True)\n",
        "df['Salary'].fillna(df['Salary'].mean(), inplace=True)\n",
        "# Step 3:: Standardize department names\n",
        "df['Department'] = df['Department'].replace({\n",
        "    'Human Resources': 'HR',\n",
        "    'H.R.': 'HR',\n",
        "    'hr': 'HR'\n",
        "})\n",
        "# Step 4: Remove duplicate records based on 'ID'\n",
        "df.drop_duplicates(subset='ID', keep='first', inplace=True)\n",
        "print(\"\\nCleaned Data:\\n\", df.head())\n"
      ],
      "metadata": {
        "colab": {
          "base_uri": "https://localhost:8080/"
        },
        "id": "9sWWfMo8AW43",
        "outputId": "22451531-6d95-4a95-d488-18b240959fba"
      },
      "execution_count": 17,
      "outputs": [
        {
          "output_type": "stream",
          "name": "stdout",
          "text": [
            "Initial Given Data:\n",
            "    ID     Name   Age       Department   Salary\n",
            "0   1   Bhuban  28.0               HR  50000.0\n",
            "1   2      ram  35.0          Finance  60000.0\n",
            "2   3    shyam   NaN               HR  55000.0\n",
            "3   4  Michael  40.0  Human Resources      NaN\n",
            "4   5    rajan  29.0               IT  52000.0\n",
            "\n",
            "Cleaned Data:\n",
            "    ID     Name   Age Department   Salary\n",
            "0   1   Bhuban  28.0         HR  50000.0\n",
            "1   2      ram  35.0    Finance  60000.0\n",
            "2   3    shyam  35.7         HR  55000.0\n",
            "3   4  Michael  40.0         HR  58100.0\n",
            "4   5    rajan  29.0         IT  52000.0\n"
          ]
        },
        {
          "output_type": "stream",
          "name": "stderr",
          "text": [
            "<ipython-input-17-2e6396a350ae>:6: FutureWarning: A value is trying to be set on a copy of a DataFrame or Series through chained assignment using an inplace method.\n",
            "The behavior will change in pandas 3.0. This inplace method will never work because the intermediate object on which we are setting values always behaves as a copy.\n",
            "\n",
            "For example, when doing 'df[col].method(value, inplace=True)', try using 'df.method({col: value}, inplace=True)' or df[col] = df[col].method(value) instead, to perform the operation inplace on the original object.\n",
            "\n",
            "\n",
            "  df['Age'].fillna(df['Age'].mean(), inplace=True)\n",
            "<ipython-input-17-2e6396a350ae>:7: FutureWarning: A value is trying to be set on a copy of a DataFrame or Series through chained assignment using an inplace method.\n",
            "The behavior will change in pandas 3.0. This inplace method will never work because the intermediate object on which we are setting values always behaves as a copy.\n",
            "\n",
            "For example, when doing 'df[col].method(value, inplace=True)', try using 'df.method({col: value}, inplace=True)' or df[col] = df[col].method(value) instead, to perform the operation inplace on the original object.\n",
            "\n",
            "\n",
            "  df['Salary'].fillna(df['Salary'].mean(), inplace=True)\n"
          ]
        }
      ]
    },
    {
      "cell_type": "code",
      "source": [
        "import pandas as pd\n",
        "from sklearn.preprocessing import MinMaxScaler\n",
        "\n",
        "# Step 1: Load the dataset\n",
        "df = pd.read_csv('/content/sample_data/lab1-datasets/student_scores.csv')\n",
        "print(\"Initial Data:\\n\", df.head())\n",
        "\n",
        "# Step 2: Apply Min-Max normalization\n",
        "scaler = MinMaxScaler()\n",
        "df[['Math', 'Science', 'English']] = scaler.fit_transform(df[['Math', 'Science', 'English']])\n",
        "\n",
        "print(\"\\nNormalized Scores:\\n\", df.head())"
      ],
      "metadata": {
        "colab": {
          "base_uri": "https://localhost:8080/"
        },
        "id": "ey90ObpYkxnm",
        "outputId": "8c0e324a-6f37-4c80-d253-bfe307adebe3"
      },
      "execution_count": 19,
      "outputs": [
        {
          "output_type": "stream",
          "name": "stdout",
          "text": [
            "Initial Data:\n",
            "    StudentID  Math  Science  English\n",
            "0          1    78       65       80\n",
            "1          2    88       75       85\n",
            "2          3    60       50       55\n",
            "3          4    90       78       92\n",
            "4          5    55       48       58\n",
            "\n",
            "Normalized Scores:\n",
            "    StudentID      Math  Science   English\n",
            "0          1  0.657143  0.53125  0.675676\n",
            "1          2  0.942857  0.84375  0.810811\n",
            "2          3  0.142857  0.06250  0.000000\n",
            "3          4  1.000000  0.93750  1.000000\n",
            "4          5  0.000000  0.00000  0.081081\n"
          ]
        }
      ]
    },
    {
      "cell_type": "code",
      "source": [
        "import pandas as pd\n",
        "\n",
        "# Step 1: Load the dataset\n",
        "df = pd.read_csv('/content/sample_data/lab1-datasets/customer_ages.csv')\n",
        "print(\"Initial Data:\\n\", df.head())\n",
        "\n",
        "# Step 2: Create bins and assign labels\n",
        "bins = [18, 30, 50, 100]\n",
        "labels = ['Young', 'Middle-aged', 'Senior']\n",
        "df['AgeGroup'] = pd.cut(df['Age'], bins=bins, labels=labels, right=False)\n",
        "\n",
        "print(\"\\nData after Binning:\\n\", df.head())\n",
        "\n",
        "# Step 3: Calculate distribution of customers in each age group\n",
        "age_group_distribution = df['AgeGroup'].value_counts()\n",
        "print(\"\\nAge Group Distribution:\\n\", age_group_distribution)"
      ],
      "metadata": {
        "colab": {
          "base_uri": "https://localhost:8080/"
        },
        "id": "qc6-C5H6nhJI",
        "outputId": "8cb8631e-2a53-4e68-af5c-b9e3c7e961d9"
      },
      "execution_count": 24,
      "outputs": [
        {
          "output_type": "stream",
          "name": "stdout",
          "text": [
            "Initial Data:\n",
            "    CustomerID  Age\n",
            "0           1   25\n",
            "1           2   42\n",
            "2           3   36\n",
            "3           4   53\n",
            "4           5   28\n",
            "\n",
            "Data after Binning:\n",
            "    CustomerID  Age     AgeGroup\n",
            "0           1   25        Young\n",
            "1           2   42  Middle-aged\n",
            "2           3   36  Middle-aged\n",
            "3           4   53       Senior\n",
            "4           5   28        Young\n",
            "\n",
            "Age Group Distribution:\n",
            " AgeGroup\n",
            "Middle-aged    7\n",
            "Young          5\n",
            "Senior         3\n",
            "Name: count, dtype: int64\n"
          ]
        }
      ]
    },
    {
      "cell_type": "code",
      "source": [
        "import pandas as pd\n",
        "\n",
        "# Step 1: Load the dataset\n",
        "df = pd.read_csv('lab1-datasets/sales_data.csv')\n",
        "print(\"Initial Data:\\n\", df.head())\n",
        "\n",
        "# Step 2: Apply discretization\n",
        "bins = [0, 5000, 20000, float('inf')]\n",
        "labels = ['Low', 'Medium', 'High']\n",
        "df['SalesCategory'] = pd.cut(df['Sales'], bins=bins, labels=labels)\n",
        "\n",
        "print(\"\\nData after Discretization:\\n\", df.head())\n",
        "\n",
        "# Step 3: Analyze the distribution of sales categories\n",
        "sales_category_distribution = df['SalesCategory'].value_counts()\n",
        "print(\"\\nSales Category Distribution:\\n\", sales_category_distribution)\n"
      ],
      "metadata": {
        "colab": {
          "base_uri": "https://localhost:8080/",
          "height": 373
        },
        "id": "QUJmPJ-hs5IB",
        "outputId": "7c17e616-41b2-4b05-ec28-0457382dd87b"
      },
      "execution_count": 25,
      "outputs": [
        {
          "output_type": "error",
          "ename": "FileNotFoundError",
          "evalue": "[Errno 2] No such file or directory: 'lab1-datasets/sales_data.csv'",
          "traceback": [
            "\u001b[0;31m---------------------------------------------------------------------------\u001b[0m",
            "\u001b[0;31mFileNotFoundError\u001b[0m                         Traceback (most recent call last)",
            "\u001b[0;32m<ipython-input-25-d48e7810b69f>\u001b[0m in \u001b[0;36m<cell line: 4>\u001b[0;34m()\u001b[0m\n\u001b[1;32m      2\u001b[0m \u001b[0;34m\u001b[0m\u001b[0m\n\u001b[1;32m      3\u001b[0m \u001b[0;31m# Step 1: Load the dataset\u001b[0m\u001b[0;34m\u001b[0m\u001b[0;34m\u001b[0m\u001b[0m\n\u001b[0;32m----> 4\u001b[0;31m \u001b[0mdf\u001b[0m \u001b[0;34m=\u001b[0m \u001b[0mpd\u001b[0m\u001b[0;34m.\u001b[0m\u001b[0mread_csv\u001b[0m\u001b[0;34m(\u001b[0m\u001b[0;34m'lab1-datasets/sales_data.csv'\u001b[0m\u001b[0;34m)\u001b[0m\u001b[0;34m\u001b[0m\u001b[0;34m\u001b[0m\u001b[0m\n\u001b[0m\u001b[1;32m      5\u001b[0m \u001b[0mprint\u001b[0m\u001b[0;34m(\u001b[0m\u001b[0;34m\"Initial Data:\\n\"\u001b[0m\u001b[0;34m,\u001b[0m \u001b[0mdf\u001b[0m\u001b[0;34m.\u001b[0m\u001b[0mhead\u001b[0m\u001b[0;34m(\u001b[0m\u001b[0;34m)\u001b[0m\u001b[0;34m)\u001b[0m\u001b[0;34m\u001b[0m\u001b[0;34m\u001b[0m\u001b[0m\n\u001b[1;32m      6\u001b[0m \u001b[0;34m\u001b[0m\u001b[0m\n",
            "\u001b[0;32m/usr/local/lib/python3.10/dist-packages/pandas/io/parsers/readers.py\u001b[0m in \u001b[0;36mread_csv\u001b[0;34m(filepath_or_buffer, sep, delimiter, header, names, index_col, usecols, dtype, engine, converters, true_values, false_values, skipinitialspace, skiprows, skipfooter, nrows, na_values, keep_default_na, na_filter, verbose, skip_blank_lines, parse_dates, infer_datetime_format, keep_date_col, date_parser, date_format, dayfirst, cache_dates, iterator, chunksize, compression, thousands, decimal, lineterminator, quotechar, quoting, doublequote, escapechar, comment, encoding, encoding_errors, dialect, on_bad_lines, delim_whitespace, low_memory, memory_map, float_precision, storage_options, dtype_backend)\u001b[0m\n\u001b[1;32m   1024\u001b[0m     \u001b[0mkwds\u001b[0m\u001b[0;34m.\u001b[0m\u001b[0mupdate\u001b[0m\u001b[0;34m(\u001b[0m\u001b[0mkwds_defaults\u001b[0m\u001b[0;34m)\u001b[0m\u001b[0;34m\u001b[0m\u001b[0;34m\u001b[0m\u001b[0m\n\u001b[1;32m   1025\u001b[0m \u001b[0;34m\u001b[0m\u001b[0m\n\u001b[0;32m-> 1026\u001b[0;31m     \u001b[0;32mreturn\u001b[0m \u001b[0m_read\u001b[0m\u001b[0;34m(\u001b[0m\u001b[0mfilepath_or_buffer\u001b[0m\u001b[0;34m,\u001b[0m \u001b[0mkwds\u001b[0m\u001b[0;34m)\u001b[0m\u001b[0;34m\u001b[0m\u001b[0;34m\u001b[0m\u001b[0m\n\u001b[0m\u001b[1;32m   1027\u001b[0m \u001b[0;34m\u001b[0m\u001b[0m\n\u001b[1;32m   1028\u001b[0m \u001b[0;34m\u001b[0m\u001b[0m\n",
            "\u001b[0;32m/usr/local/lib/python3.10/dist-packages/pandas/io/parsers/readers.py\u001b[0m in \u001b[0;36m_read\u001b[0;34m(filepath_or_buffer, kwds)\u001b[0m\n\u001b[1;32m    618\u001b[0m \u001b[0;34m\u001b[0m\u001b[0m\n\u001b[1;32m    619\u001b[0m     \u001b[0;31m# Create the parser.\u001b[0m\u001b[0;34m\u001b[0m\u001b[0;34m\u001b[0m\u001b[0m\n\u001b[0;32m--> 620\u001b[0;31m     \u001b[0mparser\u001b[0m \u001b[0;34m=\u001b[0m \u001b[0mTextFileReader\u001b[0m\u001b[0;34m(\u001b[0m\u001b[0mfilepath_or_buffer\u001b[0m\u001b[0;34m,\u001b[0m \u001b[0;34m**\u001b[0m\u001b[0mkwds\u001b[0m\u001b[0;34m)\u001b[0m\u001b[0;34m\u001b[0m\u001b[0;34m\u001b[0m\u001b[0m\n\u001b[0m\u001b[1;32m    621\u001b[0m \u001b[0;34m\u001b[0m\u001b[0m\n\u001b[1;32m    622\u001b[0m     \u001b[0;32mif\u001b[0m \u001b[0mchunksize\u001b[0m \u001b[0;32mor\u001b[0m \u001b[0miterator\u001b[0m\u001b[0;34m:\u001b[0m\u001b[0;34m\u001b[0m\u001b[0;34m\u001b[0m\u001b[0m\n",
            "\u001b[0;32m/usr/local/lib/python3.10/dist-packages/pandas/io/parsers/readers.py\u001b[0m in \u001b[0;36m__init__\u001b[0;34m(self, f, engine, **kwds)\u001b[0m\n\u001b[1;32m   1618\u001b[0m \u001b[0;34m\u001b[0m\u001b[0m\n\u001b[1;32m   1619\u001b[0m         \u001b[0mself\u001b[0m\u001b[0;34m.\u001b[0m\u001b[0mhandles\u001b[0m\u001b[0;34m:\u001b[0m \u001b[0mIOHandles\u001b[0m \u001b[0;34m|\u001b[0m \u001b[0;32mNone\u001b[0m \u001b[0;34m=\u001b[0m \u001b[0;32mNone\u001b[0m\u001b[0;34m\u001b[0m\u001b[0;34m\u001b[0m\u001b[0m\n\u001b[0;32m-> 1620\u001b[0;31m         \u001b[0mself\u001b[0m\u001b[0;34m.\u001b[0m\u001b[0m_engine\u001b[0m \u001b[0;34m=\u001b[0m \u001b[0mself\u001b[0m\u001b[0;34m.\u001b[0m\u001b[0m_make_engine\u001b[0m\u001b[0;34m(\u001b[0m\u001b[0mf\u001b[0m\u001b[0;34m,\u001b[0m \u001b[0mself\u001b[0m\u001b[0;34m.\u001b[0m\u001b[0mengine\u001b[0m\u001b[0;34m)\u001b[0m\u001b[0;34m\u001b[0m\u001b[0;34m\u001b[0m\u001b[0m\n\u001b[0m\u001b[1;32m   1621\u001b[0m \u001b[0;34m\u001b[0m\u001b[0m\n\u001b[1;32m   1622\u001b[0m     \u001b[0;32mdef\u001b[0m \u001b[0mclose\u001b[0m\u001b[0;34m(\u001b[0m\u001b[0mself\u001b[0m\u001b[0;34m)\u001b[0m \u001b[0;34m->\u001b[0m \u001b[0;32mNone\u001b[0m\u001b[0;34m:\u001b[0m\u001b[0;34m\u001b[0m\u001b[0;34m\u001b[0m\u001b[0m\n",
            "\u001b[0;32m/usr/local/lib/python3.10/dist-packages/pandas/io/parsers/readers.py\u001b[0m in \u001b[0;36m_make_engine\u001b[0;34m(self, f, engine)\u001b[0m\n\u001b[1;32m   1878\u001b[0m                 \u001b[0;32mif\u001b[0m \u001b[0;34m\"b\"\u001b[0m \u001b[0;32mnot\u001b[0m \u001b[0;32min\u001b[0m \u001b[0mmode\u001b[0m\u001b[0;34m:\u001b[0m\u001b[0;34m\u001b[0m\u001b[0;34m\u001b[0m\u001b[0m\n\u001b[1;32m   1879\u001b[0m                     \u001b[0mmode\u001b[0m \u001b[0;34m+=\u001b[0m \u001b[0;34m\"b\"\u001b[0m\u001b[0;34m\u001b[0m\u001b[0;34m\u001b[0m\u001b[0m\n\u001b[0;32m-> 1880\u001b[0;31m             self.handles = get_handle(\n\u001b[0m\u001b[1;32m   1881\u001b[0m                 \u001b[0mf\u001b[0m\u001b[0;34m,\u001b[0m\u001b[0;34m\u001b[0m\u001b[0;34m\u001b[0m\u001b[0m\n\u001b[1;32m   1882\u001b[0m                 \u001b[0mmode\u001b[0m\u001b[0;34m,\u001b[0m\u001b[0;34m\u001b[0m\u001b[0;34m\u001b[0m\u001b[0m\n",
            "\u001b[0;32m/usr/local/lib/python3.10/dist-packages/pandas/io/common.py\u001b[0m in \u001b[0;36mget_handle\u001b[0;34m(path_or_buf, mode, encoding, compression, memory_map, is_text, errors, storage_options)\u001b[0m\n\u001b[1;32m    871\u001b[0m         \u001b[0;32mif\u001b[0m \u001b[0mioargs\u001b[0m\u001b[0;34m.\u001b[0m\u001b[0mencoding\u001b[0m \u001b[0;32mand\u001b[0m \u001b[0;34m\"b\"\u001b[0m \u001b[0;32mnot\u001b[0m \u001b[0;32min\u001b[0m \u001b[0mioargs\u001b[0m\u001b[0;34m.\u001b[0m\u001b[0mmode\u001b[0m\u001b[0;34m:\u001b[0m\u001b[0;34m\u001b[0m\u001b[0;34m\u001b[0m\u001b[0m\n\u001b[1;32m    872\u001b[0m             \u001b[0;31m# Encoding\u001b[0m\u001b[0;34m\u001b[0m\u001b[0;34m\u001b[0m\u001b[0m\n\u001b[0;32m--> 873\u001b[0;31m             handle = open(\n\u001b[0m\u001b[1;32m    874\u001b[0m                 \u001b[0mhandle\u001b[0m\u001b[0;34m,\u001b[0m\u001b[0;34m\u001b[0m\u001b[0;34m\u001b[0m\u001b[0m\n\u001b[1;32m    875\u001b[0m                 \u001b[0mioargs\u001b[0m\u001b[0;34m.\u001b[0m\u001b[0mmode\u001b[0m\u001b[0;34m,\u001b[0m\u001b[0;34m\u001b[0m\u001b[0;34m\u001b[0m\u001b[0m\n",
            "\u001b[0;31mFileNotFoundError\u001b[0m: [Errno 2] No such file or directory: 'lab1-datasets/sales_data.csv'"
          ]
        }
      ]
    },
    {
      "cell_type": "code",
      "source": [
        "import pandas as pd\n",
        "\n",
        "# Step 1: Load the dataset\n",
        "df = pd.read_csv('/content/sample_data/lab1-datasets/customer_ages.csv')\n",
        "print(\"Initial Data:\\n\", df.head())\n",
        "\n",
        "# Step 2: Create bins and assign labels\n",
        "bins = [18, 30, 50, 100]\n",
        "labels = ['Young', 'Middle-aged', 'Senior']\n",
        "df['AgeGroup'] = pd.cut(df['Age'], bins=bins, labels=labels, right=False)\n",
        "\n",
        "print(\"\\nData after Binning:\\n\", df.head())\n",
        "\n",
        "# Step 3: Calculate distribution of customers in each age group\n",
        "age_group_distribution = df['AgeGroup'].value_counts()\n",
        "print(\"\\nAge Group Distribution:\\n\", age_group_distribution)"
      ],
      "metadata": {
        "colab": {
          "base_uri": "https://localhost:8080/"
        },
        "outputId": "8cb8631e-2a53-4e68-af5c-b9e3c7e961d9",
        "id": "ck765OHfuJyg"
      },
      "execution_count": null,
      "outputs": [
        {
          "output_type": "stream",
          "name": "stdout",
          "text": [
            "Initial Data:\n",
            "    CustomerID  Age\n",
            "0           1   25\n",
            "1           2   42\n",
            "2           3   36\n",
            "3           4   53\n",
            "4           5   28\n",
            "\n",
            "Data after Binning:\n",
            "    CustomerID  Age     AgeGroup\n",
            "0           1   25        Young\n",
            "1           2   42  Middle-aged\n",
            "2           3   36  Middle-aged\n",
            "3           4   53       Senior\n",
            "4           5   28        Young\n",
            "\n",
            "Age Group Distribution:\n",
            " AgeGroup\n",
            "Middle-aged    7\n",
            "Young          5\n",
            "Senior         3\n",
            "Name: count, dtype: int64\n"
          ]
        }
      ]
    },
    {
      "cell_type": "code",
      "source": [
        "import pandas as pd\n",
        "\n",
        "# Step 1: Load the dataset\n",
        "df = pd.read_csv('/content/sample_data/lab1-datasets/sales_data.csv')\n",
        "print(\"Initial Data:\\n\", df.head())\n",
        "\n",
        "# Step 2: Apply discretization\n",
        "bins = [0, 5000, 20000, float('inf')]\n",
        "labels = ['Low', 'Medium', 'High']\n",
        "df['SalesCategory'] = pd.cut(df['Sales'], bins=bins, labels=labels)\n",
        "\n",
        "print(\"\\nData after Discretization:\\n\", df.head())\n",
        "\n",
        "# Step 3: Analyze the distribution of sales categories\n",
        "sales_category_distribution = df['SalesCategory'].value_counts()\n",
        "print(\"\\nSales Category Distribution:\\n\", sales_category_distribution)\n",
        "\n"
      ],
      "metadata": {
        "colab": {
          "base_uri": "https://localhost:8080/"
        },
        "outputId": "03bbd417-e08f-40a6-cec7-6a176a40c6e6",
        "id": "M8o8sjouuEjh"
      },
      "execution_count": 27,
      "outputs": [
        {
          "output_type": "stream",
          "name": "stdout",
          "text": [
            "Initial Data:\n",
            "       Month  Sales\n",
            "0   January  15000\n",
            "1  February  18000\n",
            "2     March  12000\n",
            "3     April  30000\n",
            "4       May  22000\n",
            "\n",
            "Data after Discretization:\n",
            "       Month  Sales SalesCategory\n",
            "0   January  15000        Medium\n",
            "1  February  18000        Medium\n",
            "2     March  12000        Medium\n",
            "3     April  30000          High\n",
            "4       May  22000          High\n",
            "\n",
            "Sales Category Distribution:\n",
            " SalesCategory\n",
            "Medium    7\n",
            "High      4\n",
            "Low       1\n",
            "Name: count, dtype: int64\n"
          ]
        }
      ]
    },
    {
      "cell_type": "code",
      "source": [
        "import pandas as pd\n",
        "from sklearn.feature_selection import SelectKBest, chi2\n",
        "\n",
        "# Step 1: Load the dataset\n",
        "df = pd.read_csv('/content/sample_data/lab1-datasets/medical_data.csv')\n",
        "print(\"Initial Data:\\n\", df.head())\n",
        "\n",
        "# Step 2: Define features and target variable\n",
        "X = df.drop(columns=['Disease'])\n",
        "y = df['Disease']\n",
        "\n",
        "# Step 3: Apply Chi-square feature selection\n",
        "selector = SelectKBest(score_func=chi2, k=3)\n",
        "selector.fit(X, y)\n",
        "\n",
        "# Step 4: Get the top 3 features\n",
        "top_features = X.columns[selector.get_support()]\n",
        "print(\"\\nTop 3 Features for Predicting Disease:\\n\", top_features)"
      ],
      "metadata": {
        "colab": {
          "base_uri": "https://localhost:8080/"
        },
        "id": "e7Kz_jiSv2Bo",
        "outputId": "1f2b11f8-b051-41ff-d9ae-da02b65bdf42"
      },
      "execution_count": 28,
      "outputs": [
        {
          "output_type": "stream",
          "name": "stdout",
          "text": [
            "Initial Data:\n",
            "    PatientID  Age  BloodPressure  Cholesterol  Glucose  HeartRate  Disease\n",
            "0          1   45            130          180       95         70        1\n",
            "1          2   50            140          200      105         75        1\n",
            "2          3   60            150          240      120         80        1\n",
            "3          4   40            120          170       90         65        0\n",
            "4          5   35            110          160       85         60        0\n",
            "\n",
            "Top 3 Features for Predicting Disease:\n",
            " Index(['Age', 'Cholesterol', 'Glucose'], dtype='object')\n"
          ]
        }
      ]
    },
    {
      "cell_type": "markdown",
      "source": [],
      "metadata": {
        "id": "G6jC721q_wrO"
      }
    }
  ]
}